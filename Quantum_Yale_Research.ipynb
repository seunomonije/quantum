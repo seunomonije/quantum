{
  "nbformat": 4,
  "nbformat_minor": 0,
  "metadata": {
    "colab": {
      "name": "Quantum Yale Research.ipynb",
      "provenance": [],
      "authorship_tag": "ABX9TyMo2i8Fz2ruSBSQ16NPVijS",
      "include_colab_link": true
    },
    "kernelspec": {
      "name": "python3",
      "display_name": "Python 3"
    }
  },
  "cells": [
    {
      "cell_type": "markdown",
      "metadata": {
        "id": "view-in-github",
        "colab_type": "text"
      },
      "source": [
        "<a href=\"https://colab.research.google.com/github/seunomonije/quantum/blob/master/Quantum_Yale_Research.ipynb\" target=\"_parent\"><img src=\"https://colab.research.google.com/assets/colab-badge.svg\" alt=\"Open In Colab\"/></a>"
      ]
    },
    {
      "cell_type": "markdown",
      "metadata": {
        "id": "gk9yFK-9wK5t",
        "colab_type": "text"
      },
      "source": [
        "## IBM Qiskit Setup and Examples\n"
      ]
    },
    {
      "cell_type": "markdown",
      "metadata": {
        "id": "Zfpv2R8_TGhz",
        "colab_type": "text"
      },
      "source": [
        "### Dependencies"
      ]
    },
    {
      "cell_type": "markdown",
      "metadata": {
        "id": "AEEyOfnZw57y",
        "colab_type": "text"
      },
      "source": [
        "Qiskit installation for the colab environment. Run this line if this is your first time here. \n",
        "\n",
        "You can also check if qiskit is already installed by running line 2."
      ]
    },
    {
      "cell_type": "code",
      "metadata": {
        "id": "BIMUkl0WwG5k",
        "colab_type": "code",
        "colab": {}
      },
      "source": [
        "pip install qiskit"
      ],
      "execution_count": null,
      "outputs": []
    },
    {
      "cell_type": "markdown",
      "metadata": {
        "id": "j5lXW23mxrjo",
        "colab_type": "text"
      },
      "source": [
        "This checks if qiskit was installed correctly and returns the version\n",
        "\n",
        "*-- SO: As of 8.10.2020 -> version 0.14.2*"
      ]
    },
    {
      "cell_type": "code",
      "metadata": {
        "id": "XbPfrGGcxrU-",
        "colab_type": "code",
        "colab": {
          "base_uri": "https://localhost:8080/",
          "height": 35
        },
        "outputId": "e73d6cc1-fc4f-4843-e40a-f80ac37b6bb1"
      },
      "source": [
        "import qiskit\n",
        "qiskit.__version__"
      ],
      "execution_count": 2,
      "outputs": [
        {
          "output_type": "execute_result",
          "data": {
            "application/vnd.google.colaboratory.intrinsic+json": {
              "type": "string"
            },
            "text/plain": [
              "'0.14.2'"
            ]
          },
          "metadata": {
            "tags": []
          },
          "execution_count": 2
        }
      ]
    },
    {
      "cell_type": "markdown",
      "metadata": {
        "id": "LspWYkV4zTX9",
        "colab_type": "text"
      },
      "source": [
        "*-- SO: \n",
        "  Do y'all want to run simulations on an actual computer, or would the simulator work for now? Either is fine, I'd just have to sign up for the IBM Quantum Experience and get an API key for us to run any acutal simulations. IMO sounds like something for later, I'm guessing we won't need that within the next week.*\n",
        "\n",
        "  *If you do want to run on an actual computer let me know and I can set that up ASAP.*"
      ]
    },
    {
      "cell_type": "markdown",
      "metadata": {
        "id": "amOkT1zHz8TZ",
        "colab_type": "text"
      },
      "source": [
        "### Use\n",
        "\n",
        "*-- SO: I include suggestions for code structure here. Please let me know of any improvements I can make in the code design for readability/efficiency.*"
      ]
    },
    {
      "cell_type": "markdown",
      "metadata": {
        "id": "vvBQEJEt00CY",
        "colab_type": "text"
      },
      "source": [
        "<ins>Now we will run a simple circuit</ins>. We achieve this with a few simple steps.\n",
        "\n",
        "\n",
        "1.   Figure out how we are going to run the circuit. Are we going to use a simulator? Or are we going to try and run it on an actual quantum computer? In this case, we opt for BasicAer's simulator.\n",
        "2.   Define which registers we will be using. *Why do we need this?*\n",
        "  * Classical registers are needed in order to look at the outputs of our computations.\n",
        "  * Since we're using a simulator, we need to \"take measurements\" one by one and therefore need a place to store an earlier result, since each gate will depend on the results from prior gates.\n",
        "\n",
        "3.   Build the circuit.\n",
        "4.   Execute the circuit.\n",
        "\n",
        "\n",
        "\n",
        "\n",
        "\n"
      ]
    },
    {
      "cell_type": "markdown",
      "metadata": {
        "id": "GNKDpz6099Me",
        "colab_type": "text"
      },
      "source": [
        "I opted to create a function to measure a qubit here which we we can use later."
      ]
    },
    {
      "cell_type": "code",
      "metadata": {
        "id": "l60D4vNN6Sd-",
        "colab_type": "code",
        "colab": {}
      },
      "source": [
        "# Retrieves the simulator\n",
        "simulator = qiskit.BasicAer.get_backend('qasm_simulator')\n",
        "\n",
        "'''\n",
        "  measureASingleQubit(quantum_register, classical_register)\n",
        "    creates a quantum circuit which measures a single qubit\n",
        "\n",
        "    PARAMETERS:\n",
        "      quantum_register -> the quantum register to use\n",
        "      classical_register -> the classical register to use\n",
        "\n",
        "    RETURNS: \n",
        "      nothing\n",
        "'''\n",
        "def measureASingleQubit(quantum_register, classical_register):\n",
        "\n",
        "  # create the circuit\n",
        "  circuit = qiskit.QuantumCircuit(quantum_register, classical_register)\n",
        "\n",
        "  # add the measurement operation to the circuit\n",
        "  circuit.measure(quantum_register, classical_register)\n",
        "\n",
        "  # now let's execute the circuit\n",
        "  simulation = qiskit.execute(circuit, simulator)\n",
        "  resultObject = simulation.result()\n",
        "  \n",
        "  # get the counts for each qubit\n",
        "  counts = resultObject.get_counts(circuit)\n",
        "\n",
        "  # Print out circuit and result for visualization purposes\n",
        "  print(\"Circuit: \")\n",
        "  print(circuit)\n",
        "  print(\"Result of simulation:\")\n",
        "  print(counts)\n",
        "\n",
        "  return \n",
        "\n"
      ],
      "execution_count": 30,
      "outputs": []
    },
    {
      "cell_type": "markdown",
      "metadata": {
        "id": "F7OvppSiD3tE",
        "colab_type": "text"
      },
      "source": [
        "Links to unobvious documentation:\n",
        "* [Result Object](https://qiskit.org/documentation/stubs/qiskit.result.Result.html)\n",
        "  * [Result.get_counts](https://qiskit.org/documentation/stubs/qiskit.result.Result.get_counts.html)\n",
        "\n"
      ]
    },
    {
      "cell_type": "markdown",
      "metadata": {
        "id": "zk_ADvldGcUk",
        "colab_type": "text"
      },
      "source": [
        "Run the snippet below to see a diagram of the circuit defined in `measureASingleQubit()` as well as the result.\n",
        "\n"
      ]
    },
    {
      "cell_type": "code",
      "metadata": {
        "id": "lrNBGEz_73ZI",
        "colab_type": "code",
        "colab": {}
      },
      "source": [
        "# Define the registers\n",
        "qReg = qiskit.QuantumRegister(1);\n",
        "cReg = qiskit.ClassicalRegister(1);\n",
        "\n",
        "measureASingleQubit(qReg, cReg)"
      ],
      "execution_count": null,
      "outputs": []
    },
    {
      "cell_type": "markdown",
      "metadata": {
        "id": "J2UtG1IDHL_F",
        "colab_type": "text"
      },
      "source": [
        "<ins>Code Refactor</ins>\n",
        "\n",
        "For the purposes of our work, we will use create a simulator class. The simulator will be global and only allowed to be instantiated once. We can add more and more methods as we expand as well. I would also like to add typing eventually so we know exactly what's going through these functions.\n",
        "\n",
        "*-- SO: would love feedback*"
      ]
    },
    {
      "cell_type": "code",
      "metadata": {
        "id": "SAsP66YqIby7",
        "colab_type": "code",
        "colab": {
          "base_uri": "https://localhost:8080/",
          "height": 71
        },
        "outputId": "26554164-636e-41ad-a0ab-fa6b61a48834"
      },
      "source": [
        "class Simulator:\n",
        "    simulator = None\n",
        "\n",
        "    # Singleton paradigm ensures class is only instantiated once\n",
        "    __instance = None\n",
        "    @staticmethod\n",
        "    def getInstance():\n",
        "      if Simulator.__instance == None:\n",
        "        Simulator()\n",
        "      return Simulator.__instance\n",
        "\n",
        "    def __init__(self):\n",
        "      if Simulator.__instance != None:\n",
        "        raise Exception(\"The simulator can only be instantiated once.\")\n",
        "      else:\n",
        "        Simulator.__instance = self\n",
        "    \n",
        "    def set(self, simulator):\n",
        "      self.simulator = simulator\n",
        "      return\n",
        "    \n",
        "    def getCircuitResult(self, circuit):\n",
        "      simulation = qiskit.execute(circuit, simulator)\n",
        "      resultObject = simulation.result()\n",
        "      return resultObject\n",
        "\n",
        "    # returns counts for each qubit as a dictionary\n",
        "    def getCircuitResultWithCounts(self, circuit):\n",
        "      simulation = qiskit.execute(circuit, simulator)\n",
        "      resultObject = simulation.result()\n",
        "      counts = resultObject.get_counts(circuit)\n",
        "      return counts\n",
        "    \n",
        "''' EXAMPLE USE '''\n",
        "\n",
        "# Create a simulator and set what we want it to be\n",
        "Simulator = Simulator()\n",
        "Simulator.set(qiskit.BasicAer.get_backend('qasm_simulator'))\n",
        "\n",
        "# Define the registers\n",
        "qReg = qiskit.QuantumRegister(1);\n",
        "cReg = qiskit.ClassicalRegister(1);\n",
        "\n",
        "# Build a circuit\n",
        "circuit = qiskit.QuantumCircuit(qReg, cReg)\n",
        "circuit.measure(qReg, cReg)\n",
        "\n",
        "# Get the results\n",
        "print(Simulator.getCircuitResult(circuit))\n",
        "print(Simulator.getCircuitResultWithCounts(circuit))"
      ],
      "execution_count": 55,
      "outputs": [
        {
          "output_type": "stream",
          "text": [
            "Result(backend_name='qasm_simulator', backend_version='2.0.0', header=Obj(backend_name='qasm_simulator', backend_version='2.0.0'), job_id='8eb4cc05-9cc2-4a7b-aac1-60bcd30fdf6c', qobj_id='fdfa66a9-5c34-4443-a05c-f59028cbf7e0', results=[ExperimentResult(data=ExperimentResultData(counts=Obj(0x0=1024)), header=Obj(clbit_labels=[['c23', 0]], creg_sizes=[['c23', 1]], memory_slots=1, n_qubits=1, name='circuit50', qreg_sizes=[['q23', 1]], qubit_labels=[['q23', 0]]), meas_level=<MeasLevel.CLASSIFIED: 2>, name='circuit50', seed_simulator=1374763895, shots=1024, status='DONE', success=True, time_taken=0.0032036304473876953)], status='COMPLETED', success=True, time_taken=0.0032210350036621094)\n",
            "{'0': 1024}\n"
          ],
          "name": "stdout"
        }
      ]
    },
    {
      "cell_type": "markdown",
      "metadata": {
        "id": "lzdjcMrsNRnP",
        "colab_type": "text"
      },
      "source": [
        "### Examples"
      ]
    },
    {
      "cell_type": "code",
      "metadata": {
        "id": "ShYIgERUSYWv",
        "colab_type": "code",
        "colab": {}
      },
      "source": [
        ""
      ],
      "execution_count": null,
      "outputs": []
    }
  ]
}